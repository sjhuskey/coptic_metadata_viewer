{
 "cells": [
  {
   "cell_type": "markdown",
   "id": "8d320078",
   "metadata": {},
   "source": [
    "Following tutorial at <https://python.langchain.com/docs/integrations/graphs/ontotext/>."
   ]
  },
  {
   "cell_type": "code",
   "execution_count": 27,
   "id": "7ddcd2ba",
   "metadata": {},
   "outputs": [
    {
     "data": {
      "text/plain": [
       "True"
      ]
     },
     "execution_count": 27,
     "metadata": {},
     "output_type": "execute_result"
    }
   ],
   "source": [
    "from langchain_community.graphs import OntotextGraphDBGraph\n",
    "#from langchain_openai import ChatOpenAI\n",
    "import os\n",
    "from langchain.chains import OntotextGraphDBQAChain\n",
    "from langchain_ollama.llms import OllamaLLM\n",
    "from langchain.prompts import PromptTemplate\n",
    "from dotenv import load_dotenv\n",
    "load_dotenv()"
   ]
  },
  {
   "cell_type": "code",
   "execution_count": 28,
   "id": "ad821e10",
   "metadata": {},
   "outputs": [],
   "source": [
    "graph = OntotextGraphDBGraph(\n",
    "    query_endpoint=\"http://localhost:7200/repositories/coptic-metadata-viewer\",\n",
    "    local_file=\"/Users/sjhuskey/Python/coptic_metadata_viewer/data/coptic-metadata-viewer.ttl\",\n",
    ")"
   ]
  },
  {
   "cell_type": "code",
   "execution_count": null,
   "id": "e77ca6cb",
   "metadata": {},
   "outputs": [],
   "source": [
    "GRAPHDB_SPARQL_GENERATION_TEMPLATE = \"\"\"\n",
    "  You are an expert in SPARQL queries and RDF graph structures. Your task is to generate a SPARQL query based on the provided schema and the user's question.\n",
    "  Use only the node types and properties provided in the schema.\n",
    "  Do not use any node types or properties not explicitly listed.\n",
    "  Include all necessary PREFIX declarations.\n",
    "  Return only the SPARQL query.\n",
    "  Use a (shorthand for rdf:type) to declare the class of a subject.\n",
    "  Do not wrap the query in backticks.\n",
    "  Do not use triple backticks or any markdown formatting.\n",
    "  Do not include any text except the SPARQL query generated.\n",
    "  Always return a human-readable label instead of a URI when possible.\n",
    "  Do not use multiple WHERE clauses.\n",
    "  \n",
    "  Your RDF graph has these prefixes, classes, and properties:\n",
    "\n",
    "    @prefix coptic: <http://www.semanticweb.org/sjhuskey/ontologies/2025/7/coptic-metadata-viewer/> .\n",
    "    @prefix dcmitype: <http://purl.org/dc/dcmitype/> .\n",
    "    @prefix dcterms: <http://purl.org/dc/terms/> .\n",
    "    @prefix foaf: <http://xmlns.com/foaf/0.1/> .\n",
    "    @prefix frbr: <http://purl.org/vocab/frbr/core#> .\n",
    "    @prefix lawd: <http://lawd.info/ontology/> .\n",
    "    @prefix ns1: <http://lexinfo.net/ontology/2.0/lexinfo#> .\n",
    "    @prefix owl: <http://www.w3.org/2002/07/owl#> .\n",
    "    @prefix rdf: <http://www.w3.org/1999/02/22-rdf-syntax-ns#> .\n",
    "    @prefix rdfs: <http://www.w3.org/2000/01/rdf-schema#> .\n",
    "    @prefix schema1: <http://schema.org/> .\n",
    "    @prefix skos: <http://www.w3.org/2004/02/skos/core#> .\n",
    "    @prefix time: <http://www.w3.org/2006/time#> .\n",
    "    \n",
    "    - coptic:Colophon:\n",
    "      - dcterms:description\n",
    "      - dcterms:identifier\n",
    "      - dcterms:isPartOf\n",
    "      - dcterms:references\n",
    "      - dcterms:type\n",
    "      - ns1:translation\n",
    "      - rdf:type\n",
    "      - time:hasBeginning\n",
    "      - time:hasEnd\n",
    "\n",
    "    - coptic:Title:\n",
    "      - dcterms:description\n",
    "      - dcterms:identifier\n",
    "      - dcterms:isPartOf\n",
    "      - dcterms:references\n",
    "      - dcterms:type\n",
    "      - rdf:type\n",
    "\n",
    "    - dcmitype:Collection:\n",
    "      - dcterms:hasPart\n",
    "      - dcterms:identifier\n",
    "      - dcterms:spatial\n",
    "      - rdf:type\n",
    "\n",
    "    - dcterms:Agent:\n",
    "      - dcterms:creator\n",
    "      - dcterms:description\n",
    "      - dcterms:identifier\n",
    "      - foaf:name\n",
    "      - owl:sameAs\n",
    "      - rdf:type\n",
    "      - schema1:title\n",
    "\n",
    "    - dcterms:PhysicalResource:\n",
    "      - dcterms:bibliographicCitation\n",
    "      - dcterms:description\n",
    "      - dcterms:hasPart\n",
    "      - dcterms:identifier\n",
    "      - dcterms:isPartOf\n",
    "      - dcterms:medium\n",
    "      - rdf:type\n",
    "      - time:hasBeginning\n",
    "      - time:hasEnd\n",
    "\n",
    "    - foaf:Person:\n",
    "      - dcterms:identifier\n",
    "      - dcterms:isReferencedBy\n",
    "      - foaf:name\n",
    "      - ns1:transliteration\n",
    "      - rdf:type\n",
    "      - rdfs:label\n",
    "      - schema1:birthPlace\n",
    "      - schema1:gender\n",
    "      - schema1:roleName\n",
    "      - time:hasBeginning\n",
    "      - time:hasEnd\n",
    "\n",
    "    - frbr:Work:\n",
    "      - dcterms:creator\n",
    "      - dcterms:description\n",
    "      - dcterms:identifier\n",
    "      - dcterms:isPartOf\n",
    "      - dcterms:isReferencedBy\n",
    "      - dcterms:temporal\n",
    "      - dcterms:title\n",
    "      - rdf:type\n",
    "      - rdfs:label\n",
    "\n",
    "    - lawd:Place:\n",
    "      - lawd:primaryForm\n",
    "      - rdf:type\n",
    "      - rdfs:label\n",
    "      - skos:exactMatch\n",
    "    \n",
    "    Schema: {schema}\n",
    "  \n",
    "    The question delimited by triple backticks is:\n",
    "  ```\n",
    "  {prompt}\n",
    "  ```\n",
    "  \"\"\"\n",
    "GRAPHDB_SPARQL_GENERATION_PROMPT = PromptTemplate(\n",
    "      input_variables=[\"schema\", \"prompt\"],\n",
    "      template=GRAPHDB_SPARQL_GENERATION_TEMPLATE,\n",
    "  )"
   ]
  },
  {
   "cell_type": "code",
   "execution_count": 30,
   "id": "cd021922",
   "metadata": {},
   "outputs": [],
   "source": [
    "GRAPHDB_QA_TEMPLATE = \"\"\"Task: Generate a natural language response from the results of a SPARQL query.\n",
    "  You are an assistant that creates well-written and human understandable answers.\n",
    "  The information part contains the information provided, which you can use to construct an answer.\n",
    "  The information provided is authoritative, you must never doubt it or try to use your internal knowledge to correct it.\n",
    "  Make your response sound like the information is coming from an AI assistant, but don't add any information.\n",
    "  Don't use internal knowledge to answer the question, just say you don't know if no information is available.\n",
    "  Information:\n",
    "  {context}\n",
    "  \n",
    "  Question: {prompt}\n",
    "  Helpful Answer:\"\"\"\n",
    "GRAPHDB_QA_PROMPT = PromptTemplate(\n",
    "      input_variables=[\"context\", \"prompt\"], template=GRAPHDB_QA_TEMPLATE\n",
    "  )"
   ]
  },
  {
   "cell_type": "code",
   "execution_count": 31,
   "id": "f6fceab9",
   "metadata": {},
   "outputs": [],
   "source": [
    "GRAPHDB_SPARQL_FIX_TEMPLATE = \"\"\"\n",
    "  This following SPARQL query delimited by triple backticks\n",
    "  ```\n",
    "  {generated_sparql}\n",
    "  ```\n",
    "  is not valid.\n",
    "  The error delimited by triple backticks is\n",
    "  ```\n",
    "  {error_message}\n",
    "  ```\n",
    "  - Do NOT include any Markdown formatting (e.g. no ```sparql or backticks).\n",
    "  - Do NOT output explanations, only the corrected query.\n",
    "  - Always start with any necessary PREFIX declarations.\n",
    "  - Use `a` instead of `rdf:type` to state class membership.\n",
    "  - Ensure that classes like `frbr:Work` are used as objects, not predicates.\n",
    "  - Fix common mistakes like using classes as predicates, missing semicolons, or malformed FILTER clauses.\n",
    "\n",
    "  Only output a valid, working SPARQL query.\n",
    "  ```\n",
    "  {schema}\n",
    "  ```\n",
    "  \"\"\"\n",
    "  \n",
    "GRAPHDB_SPARQL_FIX_PROMPT = PromptTemplate(\n",
    "      input_variables=[\"error_message\", \"generated_sparql\", \"schema\"],\n",
    "      template=GRAPHDB_SPARQL_FIX_TEMPLATE,\n",
    "  )"
   ]
  },
  {
   "cell_type": "code",
   "execution_count": 32,
   "id": "4a469910",
   "metadata": {},
   "outputs": [],
   "source": [
    "chain = OntotextGraphDBQAChain.from_llm(\n",
    "    #ChatOpenAI(model=\"gpt-4o-mini\", temperature=0),\n",
    "    OllamaLLM(model=\"mistral-small3.2\", temperature=0),\n",
    "    graph=graph,\n",
    "    sparql_generation_prompt=GRAPHDB_SPARQL_GENERATION_PROMPT,\n",
    "    qa_prompt=GRAPHDB_QA_PROMPT,\n",
    "    sparql_fix_prompt=GRAPHDB_SPARQL_FIX_PROMPT,\n",
    "    max_fix_retries=3,\n",
    "    verbose=True,\n",
    "    allow_dangerous_requests=True,\n",
    ")"
   ]
  },
  {
   "cell_type": "code",
   "execution_count": null,
   "id": "af664bdd",
   "metadata": {},
   "outputs": [
    {
     "name": "stdout",
     "output_type": "stream",
     "text": [
      "\n",
      "\n",
      "\u001b[1m> Entering new OntotextGraphDBQAChain chain...\u001b[0m\n"
     ]
    }
   ],
   "source": [
    "# chain.invoke({chain.input_key: \"Who is the creator of the work with the title 'Sermo asceticus?'\"})[chain.output_key]\n",
    "output = chain.invoke(\"Who wrote the work with the title 'Sermo asceticus'?\")  # Example query\n",
    "print(output['result'])  # Print the answer"
   ]
  },
  {
   "cell_type": "code",
   "execution_count": null,
   "id": "80077422",
   "metadata": {},
   "outputs": [
    {
     "name": "stdout",
     "output_type": "stream",
     "text": [
      "\n",
      "\n",
      "\u001b[1m> Entering new OntotextGraphDBQAChain chain...\u001b[0m\n",
      "Invalid SPARQL query: \n",
      "\u001b[31;1m\u001b[1;3m```\n",
      "PREFIX coptic: <http://www.semanticweb.org/sjhuskey/ontologies/2025/7/coptic-metadata-viewer/>\n",
      "PREFIX dcterms: <http://purl.org/dc/terms/>\n",
      "PREFIX dcmitype: <http://purl.org/dc/dcmitype/>\n",
      "\n",
      "SELECT ?manuscriptLabel WHERE {\n",
      "  ?title a coptic:Title ;\n",
      "         dcterms:identifier \"307\" ;\n",
      "         dcterms:isPartOf ?manuscript .\n",
      "  ?manuscript rdfs:label ?manuscriptLabel .\n",
      "}\n",
      "```\u001b[0m\n",
      "SPARQL Query Parse Error: \n",
      "\u001b[31;1m\u001b[1;3mExpected {SelectQuery | ConstructQuery | DescribeQuery | AskQuery}, found '`'  (at char 0), (line:1, col:1)\u001b[0m\n",
      "\n",
      "Generated SPARQL:\n",
      "\u001b[32;1m\u001b[1;3mPREFIX coptic: <http://www.semanticweb.org/sjhuskey/ontologies/2025/7/coptic-metadata-viewer/>\n",
      "PREFIX dcterms: <http://purl.org/dc/terms/>\n",
      "PREFIX rdfs: <http://www.w3.org/2000/01/rdf-schema#>\n",
      "\n",
      "SELECT ?manuscriptLabel WHERE {\n",
      "  ?title a coptic:Title ;\n",
      "         dcterms:identifier \"307\" ;\n",
      "         dcterms:isPartOf ?manuscript .\n",
      "  ?manuscript rdfs:label ?manuscriptLabel .\n",
      "}\u001b[0m\n",
      "\n",
      "\u001b[1m> Finished chain.\u001b[0m\n",
      "I don't have the information available to answer your question.\n"
     ]
    }
   ],
   "source": [
    "# chain.invoke({chain.input_key: \"Who is the creator of the work with the title 'Sermo asceticus?'\"})[chain.output_key]\n",
    "output = chain.invoke(\"Which manuscript contains a title with identifier 307?\")  # Example query\n",
    "print(output['result'])  # Print the answer"
   ]
  },
  {
   "cell_type": "code",
   "execution_count": null,
   "id": "fd6f1d3d",
   "metadata": {},
   "outputs": [],
   "source": []
  }
 ],
 "metadata": {
  "kernelspec": {
   "display_name": "schroeder",
   "language": "python",
   "name": "python3"
  },
  "language_info": {
   "codemirror_mode": {
    "name": "ipython",
    "version": 3
   },
   "file_extension": ".py",
   "mimetype": "text/x-python",
   "name": "python",
   "nbconvert_exporter": "python",
   "pygments_lexer": "ipython3",
   "version": "3.10.18"
  }
 },
 "nbformat": 4,
 "nbformat_minor": 5
}
