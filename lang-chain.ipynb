{
 "cells": [
  {
   "cell_type": "code",
   "execution_count": 1,
   "id": "8e6bb093",
   "metadata": {},
   "outputs": [
    {
     "data": {
      "text/plain": [
       "True"
      ]
     },
     "execution_count": 1,
     "metadata": {},
     "output_type": "execute_result"
    }
   ],
   "source": [
    "from langchain_openai import ChatOpenAI\n",
    "from langchain.chains import GraphSparqlQAChain\n",
    "from langchain.prompts import PromptTemplate\n",
    "from langchain_community.graphs import RdfGraph\n",
    "from dotenv import load_dotenv\n",
    "load_dotenv()"
   ]
  },
  {
   "cell_type": "code",
   "execution_count": 2,
   "id": "a0780ed8",
   "metadata": {},
   "outputs": [],
   "source": [
    "# Initialize the RDF graph\n",
    "graph = RdfGraph(\n",
    "    standard=\"rdf\",\n",
    "    serialization=\"ttl\",\n",
    "    source_file=\"data/graph.ttl\"\n",
    ")"
   ]
  },
  {
   "cell_type": "code",
   "execution_count": 3,
   "id": "d6ca4682",
   "metadata": {},
   "outputs": [],
   "source": [
    "schema = graph.load_schema()"
   ]
  },
  {
   "cell_type": "code",
   "execution_count": 4,
   "id": "9b230725",
   "metadata": {},
   "outputs": [],
   "source": [
    "sparql_select_prompt=PromptTemplate(\n",
    "    input_variables=[\"prompt\", \"schema\"],\n",
    "    template=\"\"\"\n",
    "    You are an expert in SPARQL queries and RDF graph structures. Your task is to generate a SPARQL query based on the provided schema and the user's question.\n",
    "    Use only the node types and properties provided in the schema.\n",
    "    Do not use any node types or properties not explicitly listed.\n",
    "    Include all necessary PREFIX declarations.\n",
    "    Return only the SPARQL query. Do not include any text before or after the query. Do not use triple backticks or any markdown formatting.\n",
    "    Your RDF graph has these classes and properties:\n",
    "    - dcmitype:Collection\n",
    "        - dcterms:hasPart\n",
    "        - dcterms:identifier\n",
    "        - dcterms:spatial\n",
    "        - rdf:type\n",
    "\n",
    "    - dcmitype:Text\n",
    "        - dcterms:description\n",
    "        - dcterms:identifier\n",
    "        - dcterms:references\n",
    "        - dcterms:type\n",
    "        - ns1:translation\n",
    "        - rdf:type\n",
    "        - rdf:value\n",
    "        - time:hasBeginning\n",
    "        - time:hasEnd\n",
    "\n",
    "    - dcterms:Agent\n",
    "        - dcterms:creator\n",
    "        - dcterms:description\n",
    "        - foaf:name\n",
    "        - owl:sameAs\n",
    "        - rdf:type\n",
    "        - schema1:title\n",
    "\n",
    "    - dcterms:PhysicalResource\n",
    "        - dcterms:bibliographicCitation\n",
    "        - dcterms:description\n",
    "        - dcterms:hasPart\n",
    "        - dcterms:identifier\n",
    "        - dcterms:isPartOf\n",
    "        - dcterms:medium\n",
    "        - rdf:type\n",
    "        - time:hasBeginning\n",
    "        - time:hasEnd\n",
    "\n",
    "    - foaf:Person\n",
    "        - dcterms:isReferencedBy\n",
    "        - foaf:name\n",
    "        - ns1:transliteration\n",
    "        - rdf:type\n",
    "        - rdfs:label\n",
    "        - schema1:birthPlace\n",
    "        - schema1:gender\n",
    "        - schema1:roleName\n",
    "        - time:hasBeginning\n",
    "        - time:hasEnd\n",
    "\n",
    "    - frbr:Work\n",
    "        - dcterms:creator\n",
    "        - dcterms:description\n",
    "        - dcterms:hasPart\n",
    "        - dcterms:identifier\n",
    "        - dcterms:isReferencedBy\n",
    "        - dcterms:temporal\n",
    "        - dcterms:title\n",
    "        - rdf:type\n",
    "        - rdfs:label\n",
    "\n",
    "    - lawd:Place\n",
    "        - lawd:primaryForm\n",
    "        - rdf:type\n",
    "        - rdfs:label\n",
    "        - skos:exactMatch\n",
    "    Do not use any node types and properties that are not explicitly provided.\n",
    "    Include all necessary prefixes.\n",
    "    Always return a human-readable label instead of a URI when possible.\n",
    "    \\n\\nThe question is:\\n{prompt}\n",
    "    Schema: {schema}\n",
    "    \"\"\")\n",
    "\n",
    "qa_prompt = PromptTemplate(\n",
    "    input_variables=[\"context\", \"prompt\"],\n",
    "    template=\"\"\"\n",
    "You are a friendly and knowledgeable digital research assistant specializing in Coptic and Greek texts.\n",
    "\n",
    "Given the structured data below, answer the user’s question in clear, natural language.\n",
    "Use complete sentences. If multilingual forms are included, identify which language each form belongs to.\n",
    "\n",
    "Structured data:\n",
    "{context}\n",
    "\n",
    "User question:\n",
    "{prompt}\n",
    "\n",
    "Answer:\n",
    "\"\"\"\n",
    ")"
   ]
  },
  {
   "cell_type": "code",
   "execution_count": 5,
   "id": "a2706329",
   "metadata": {},
   "outputs": [],
   "source": [
    "chain = GraphSparqlQAChain.from_llm(\n",
    "    ChatOpenAI(model=\"gpt-4o-mini\", temperature=0),\n",
    "    sparql_select_prompt=sparql_select_prompt,\n",
    "    qa_prompt=qa_prompt,\n",
    "    graph=graph,\n",
    "    verbose=True,\n",
    "    return_intermediate_steps=True,\n",
    "    allow_dangerous_requests=True\n",
    ")"
   ]
  },
  {
   "cell_type": "code",
   "execution_count": 8,
   "id": "a43c7c21",
   "metadata": {},
   "outputs": [
    {
     "name": "stdout",
     "output_type": "stream",
     "text": [
      "\n",
      "\n",
      "\u001b[1m> Entering new GraphSparqlQAChain chain...\u001b[0m\n",
      "Identified intent:\n",
      "\u001b[32;1m\u001b[1;3mSELECT\u001b[0m\n",
      "Generated SPARQL:\n",
      "\u001b[32;1m\u001b[1;3mPREFIX dcterms: <http://purl.org/dc/terms/>\n",
      "PREFIX foaf: <http://xmlns.com/foaf/0.1/>\n",
      "PREFIX frbr: <http://purl.org/vocab/frbr/core#>\n",
      "\n",
      "SELECT ?authorName WHERE {\n",
      "    ?work a frbr:Work .\n",
      "    ?work dcterms:title \"Sermo asceticus\" .\n",
      "    ?work dcterms:creator ?creator .\n",
      "    ?creator foaf:name ?authorName .\n",
      "}\u001b[0m\n",
      "Full Context:\n",
      "\u001b[32;1m\u001b[1;3m[(rdflib.term.Literal('Stephen of Thebes'),), (rdflib.term.Literal('ⲥⲧⲉⲫⲁⲛⲟⲥ', lang='cop'),), (rdflib.term.Literal('Στέφανος', lang='el'),)]\u001b[0m\n",
      "\n",
      "\u001b[1m> Finished chain.\u001b[0m\n",
      "The author of the work titled 'Sermo asceticus' is Stephen of Thebes. In Coptic, his name is written as ⲥⲧⲉⲫⲁⲛⲟⲥ, and in Greek, it is Στέφανος.\n"
     ]
    }
   ],
   "source": [
    "output = chain.invoke(\"Who is the author of the work with the title 'Sermo asceticus?'\")  # Example query\n",
    "print(output['result'])  # Print the answer"
   ]
  },
  {
   "cell_type": "code",
   "execution_count": null,
   "id": "2249f4cc",
   "metadata": {},
   "outputs": [],
   "source": []
  }
 ],
 "metadata": {
  "kernelspec": {
   "display_name": "schroeder",
   "language": "python",
   "name": "python3"
  },
  "language_info": {
   "codemirror_mode": {
    "name": "ipython",
    "version": 3
   },
   "file_extension": ".py",
   "mimetype": "text/x-python",
   "name": "python",
   "nbconvert_exporter": "python",
   "pygments_lexer": "ipython3",
   "version": "3.10.18"
  }
 },
 "nbformat": 4,
 "nbformat_minor": 5
}
