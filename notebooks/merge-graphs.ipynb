{
 "cells": [
  {
   "cell_type": "code",
   "execution_count": null,
   "id": "c64b1808",
   "metadata": {},
   "outputs": [
    {
     "data": {
      "text/plain": [
       "<Graph identifier=Nbc09a19f21c74e169c26f88421ca994c (<class 'rdflib.graph.Graph'>)>"
      ]
     },
     "execution_count": 7,
     "metadata": {},
     "output_type": "execute_result"
    }
   ],
   "source": [
    "from rdflib import Graph, Namespace, URIRef\n",
    "\n",
    "# Load your graph\n",
    "g = Graph()\n",
    "g.parse(\"../turtles/graph.ttl\", format=\"ttl\")  # Adjust if needed\n",
    "\n",
    "# Define the namespaces\n",
    "DCTERMS = Namespace(\"http://purl.org/dc/terms/\")\n",
    "\n",
    "# Apply the inference rule\n",
    "inferred_triples = set()\n",
    "for title, _, work in g.triples((None, DCTERMS.references, None)):\n",
    "    for _, _, author in g.triples((work, DCTERMS.creator, None)):\n",
    "        triple = (title, DCTERMS.creator, author)\n",
    "        if triple not in g:\n",
    "            inferred_triples.add(triple)\n",
    "\n",
    "for title, _, work in g.triples((None, DCTERMS.references, None)):\n",
    "    for _, _, author in g.triples((work, DCTERMS.creator, None)):\n",
    "        triple = (title, DCTERMS.creator, author)\n",
    "        if triple not in g:\n",
    "            inferred_triples.add(triple)\n",
    "# Add inferred triples to the graph\n",
    "for triple in inferred_triples:\n",
    "    g.add(triple)\n",
    "\n",
    "# Save the updated graph (optional)\n",
    "g.serialize(\"../turtles/graph_with_inference.ttl\", format=\"turtle\")"
   ]
  },
  {
   "cell_type": "code",
   "execution_count": 5,
   "id": "783b831f",
   "metadata": {},
   "outputs": [],
   "source": [
    "g_structured += g_inferred"
   ]
  },
  {
   "cell_type": "code",
   "execution_count": 6,
   "id": "c226712b",
   "metadata": {},
   "outputs": [
    {
     "data": {
      "text/plain": [
       "<Graph identifier=Nc57a69ab437d4a5b85e4c66b6afcecc2 (<class 'rdflib.graph.Graph'>)>"
      ]
     },
     "execution_count": 6,
     "metadata": {},
     "output_type": "execute_result"
    }
   ],
   "source": [
    "g_structured.serialize(\"../turtles/merged_graph.ttl\", format=\"turtle\")"
   ]
  },
  {
   "cell_type": "code",
   "execution_count": null,
   "id": "e547ae9a",
   "metadata": {},
   "outputs": [],
   "source": []
  }
 ],
 "metadata": {
  "kernelspec": {
   "display_name": "schroeder",
   "language": "python",
   "name": "python3"
  },
  "language_info": {
   "codemirror_mode": {
    "name": "ipython",
    "version": 3
   },
   "file_extension": ".py",
   "mimetype": "text/x-python",
   "name": "python",
   "nbconvert_exporter": "python",
   "pygments_lexer": "ipython3",
   "version": "3.10.18"
  }
 },
 "nbformat": 4,
 "nbformat_minor": 5
}
